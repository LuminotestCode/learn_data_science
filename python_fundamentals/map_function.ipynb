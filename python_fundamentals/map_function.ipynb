{
 "cells": [
  {
   "cell_type": "markdown",
   "id": "4fa03ab9-9edc-4a0b-9bfd-e216f6422855",
   "metadata": {},
   "source": [
    "# Map functions"
   ]
  },
  {
   "cell_type": "markdown",
   "id": "0378fdb8-2eac-4bc1-b524-e9ab506546a2",
   "metadata": {},
   "source": [
    "La función map es una de las herramientas más poderosas que Python ofrece para la manipulación y transformación de listas. Su principal objetivo es aplicar una función determinada a cada elemento de una lista, generando así una nueva lista con los elementos transformados. Al usar `map`, se garantiza que el número de elementos en la lista original y la lista transformada sea el mismo. Esto es crucial para mantener la integridad de los datos."
   ]
  },
  {
   "cell_type": "markdown",
   "id": "c92362f0-2e4b-4c7e-9a01-c7f74ecd0fa9",
   "metadata": {},
   "source": [
    "### ¿Cómo se utiliza map en Python?"
   ]
  },
  {
   "cell_type": "markdown",
   "id": "abfb3961-a07f-4ada-a83d-83b738b8b129",
   "metadata": {},
   "source": [
    "Para aplicar la función map en Python, basta con seguir estos pasos básicos:\n",
    "\n",
    "1. Definir la función de transformación: En este caso, se puede usar una lambda function para definir la operación a realizar.\n",
    "2. Aplicar map: Pasar la función y la lista a transformar a map.\n",
    "3. Convertir a lista: El resultado de map es un objeto iterable, que se debe convertir en una lista para su uso."
   ]
  },
  {
   "cell_type": "code",
   "execution_count": 1,
   "id": "6c68932d-227b-4485-adfc-e4e9eaf36362",
   "metadata": {},
   "outputs": [
    {
     "data": {
      "text/plain": [
       "[2, 4, 6, 8]"
      ]
     },
     "execution_count": 1,
     "metadata": {},
     "output_type": "execute_result"
    }
   ],
   "source": [
    "numbers = [1,2,3,4]\n",
    "numbers_multiply = list(map(lambda i: i * 2, numbers))\n",
    "numbers_multiply"
   ]
  },
  {
   "cell_type": "code",
   "execution_count": 2,
   "id": "69ad02c2-4a27-416d-952d-fb8416024e47",
   "metadata": {},
   "outputs": [
    {
     "data": {
      "text/plain": [
       "[6, 5, 5]"
      ]
     },
     "execution_count": 2,
     "metadata": {},
     "output_type": "execute_result"
    }
   ],
   "source": [
    "numbers_1 = [5,3,2]\n",
    "numbers_2 = [1,2,3]\n",
    "result = list(map(lambda x, y : x + y, numbers_1, numbers_2))\n",
    "result"
   ]
  },
  {
   "cell_type": "markdown",
   "id": "6632c5ca-917e-40ef-8e15-a4a59981a5e3",
   "metadata": {},
   "source": [
    "### Map with dictionaries"
   ]
  },
  {
   "cell_type": "markdown",
   "id": "0f2a3116-b4d5-44b2-b368-402cca3069c3",
   "metadata": {},
   "source": [
    "`map` en Python  permite transformar listas de forma elegante, incluso cuando estás trabajando con estructuras de datos más complejas como los diccionarios. A menudo, cuando manejamos diccionarios, surge la necesidad de transformar estos elementos en otro tipo de datos, como listas de números."
   ]
  },
  {
   "cell_type": "markdown",
   "id": "041b42ba-cd24-450e-a5c3-f14161f230a2",
   "metadata": {},
   "source": [
    "Supongamos que deseamos obtener solo el precio de un diccionario"
   ]
  },
  {
   "cell_type": "code",
   "execution_count": 17,
   "id": "a80e8fa7-d0da-4286-8258-4e0e0507ea5d",
   "metadata": {},
   "outputs": [
    {
     "data": {
      "text/plain": [
       "[100, 300, 200]"
      ]
     },
     "execution_count": 17,
     "metadata": {},
     "output_type": "execute_result"
    }
   ],
   "source": [
    "items = [\n",
    "    {\"producto\": \"camisa\", \"price\": 100},\n",
    "    {\"producto\": \"pantalones\", \"price\": 300},\n",
    "    {\"producto\": \"pantalones 2\", \"price\": 200},\n",
    "]\n",
    "\n",
    "price_list = list(map(lambda item: item['price'], items))\n",
    "price_list"
   ]
  },
  {
   "cell_type": "markdown",
   "id": "cd961303-4d4e-4230-bd5f-8251907de5a1",
   "metadata": {},
   "source": [
    "Ahora modifiquemos el diccionario para agregar un nuevo elemento"
   ]
  },
  {
   "cell_type": "code",
   "execution_count": 18,
   "id": "4879b695-2fd1-4332-bc8b-df51982f1a55",
   "metadata": {},
   "outputs": [
    {
     "name": "stdout",
     "output_type": "stream",
     "text": [
      "[{'producto': 'camisa', 'price': 100, 'taxes': 19.0}, {'producto': 'pantalones', 'price': 300, 'taxes': 57.0}, {'producto': 'pantalones 2', 'price': 200, 'taxes': 38.0}]\n",
      "[{'producto': 'camisa', 'price': 100}, {'producto': 'pantalones', 'price': 300}, {'producto': 'pantalones 2', 'price': 200}]\n"
     ]
    }
   ],
   "source": [
    "def add_taxes(item):\n",
    "    new_item = item.copy()\n",
    "    new_item['taxes'] = new_item['price'] * .19\n",
    "    return new_item\n",
    "\n",
    "new_items = list(map(add_taxes, items))\n",
    "print(new_items)\n",
    "print(items)"
   ]
  },
  {
   "cell_type": "markdown",
   "id": "b95e0643-aa11-4cbd-94c9-4e9c3b380246",
   "metadata": {},
   "source": [
    ">Se debe crear una nueva lista para evitar modificar la original"
   ]
  },
  {
   "cell_type": "code",
   "execution_count": null,
   "id": "efd07df9-18b8-4421-8329-e801e10c5fe9",
   "metadata": {},
   "outputs": [],
   "source": []
  }
 ],
 "metadata": {
  "kernelspec": {
   "display_name": "Python 3 (ipykernel)",
   "language": "python",
   "name": "python3"
  },
  "language_info": {
   "codemirror_mode": {
    "name": "ipython",
    "version": 3
   },
   "file_extension": ".py",
   "mimetype": "text/x-python",
   "name": "python",
   "nbconvert_exporter": "python",
   "pygments_lexer": "ipython3",
   "version": "3.10.12"
  }
 },
 "nbformat": 4,
 "nbformat_minor": 5
}
