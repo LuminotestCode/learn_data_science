{
 "cells": [
  {
   "cell_type": "markdown",
   "id": "b06593f4-0ddc-4194-8515-aecb049a5b9d",
   "metadata": {},
   "source": [
    "# Filter"
   ]
  },
  {
   "cell_type": "markdown",
   "id": "d1c421a2-880d-43a4-99d0-246f5b279885",
   "metadata": {},
   "source": [
    "El método Filter en Python permite seleccionar ciertos elementos de una lista para crear una nueva lista basada en una condición específica. A diferencia de `Map`, que transforma cada elemento de la lista original, `Filter` solo selecciona los elementos que cumplen con el criterio dado. \n",
    "\n",
    "Para utilizar `Filter`, puedes seguir estos pasos básicos:\n",
    "\n",
    "1. Define una función de condición (usualmente con una lambda function).\n",
    "2. Aplica el método Filter proporcionando esta función y la lista que deseas filtrar.\n",
    "3. Convierte el resultado en una lista."
   ]
  },
  {
   "cell_type": "code",
   "execution_count": 4,
   "id": "7cf134db-e3e4-4902-b5b7-77455f56eb79",
   "metadata": {},
   "outputs": [
    {
     "name": "stdout",
     "output_type": "stream",
     "text": [
      "Lista original: [1, 2, 3, 4, 5, 6]\n",
      "Lista filtrada: [2, 4, 6]\n"
     ]
    }
   ],
   "source": [
    "numbers = [1,2,3,4,5,6]\n",
    "numbers_filter = list(filter(lambda x: x % 2 == 0, numbers)) #Lista con módulo 2\n",
    "print(f'Lista original: {numbers}')\n",
    "print(f'Lista filtrada: {numbers_filter}')"
   ]
  },
  {
   "cell_type": "markdown",
   "id": "6ba19a4b-0967-4606-b2ac-c50e0900cc00",
   "metadata": {},
   "source": [
    "## Filter with dictionaries"
   ]
  },
  {
   "cell_type": "markdown",
   "id": "65b7da92-afdd-4cc7-8552-fc75d09cdff3",
   "metadata": {},
   "source": [
    "El método `Filter` también se puede emplear con listas que contienen `diccionarios`. Este es un escenario común cuando trabajamos con datos estructurados.\n",
    "\n",
    "Supongamos que tenemos una lista de diccionarios que representan partidos de fútbol, y deseas filtrar solo aquellos partidos en los que el equipo local ganó."
   ]
  },
  {
   "cell_type": "code",
   "execution_count": 6,
   "id": "ff8ecbf6-4f2c-44e7-a6e1-52aaab1b01e8",
   "metadata": {},
   "outputs": [
    {
     "name": "stdout",
     "output_type": "stream",
     "text": [
      "Diccionario original: [{'home_team': 'Bolivia', 'away_team': 'Uruguay', 'home_team_result': 'win'}, {'home_team': 'Argentina', 'away_team': 'Chile', 'home_team_result': 'draw'}, {'home_team': 'Peru', 'away_team': 'Ecuador', 'home_team_result': 'win'}]\n",
      "Diccionario filtrado: [{'home_team': 'Bolivia', 'away_team': 'Uruguay', 'home_team_result': 'win'}, {'home_team': 'Peru', 'away_team': 'Ecuador', 'home_team_result': 'win'}]\n"
     ]
    }
   ],
   "source": [
    "# Lista de partidos\n",
    "matches = [\n",
    "    {\"home_team\": \"Bolivia\", \"away_team\": \"Uruguay\", \"home_team_result\": \"win\"},\n",
    "    {\"home_team\": \"Argentina\", \"away_team\": \"Chile\", \"home_team_result\": \"draw\"},\n",
    "    {\"home_team\": \"Peru\", \"away_team\": \"Ecuador\", \"home_team_result\": \"win\"}\n",
    "]\n",
    "\n",
    "# Aplicar filtro para obtener solo los partidos ganados por el equipo local\n",
    "winningMatches = list(filter(lambda match: match['home_team_result'] == 'win', matches))\n",
    "\n",
    "# Imprimir los partidos ganados por el equipo local\n",
    "print(f'Diccionario original: {matches}')\n",
    "print(f'Diccionario filtrado: {winningMatches}')"
   ]
  },
  {
   "cell_type": "markdown",
   "id": "92e4913b-d15f-4f74-95cb-f4f95c504182",
   "metadata": {},
   "source": [
    "# Reduce"
   ]
  },
  {
   "cell_type": "markdown",
   "id": "ec89bf58-65e6-403b-8f5f-96fe33f958af",
   "metadata": {},
   "source": [
    "La función `reduce` en `Python` es esencial para transformar una lista en un solo valor mediante la acumulación de sus elementos. `Reduce`, `map` y `filter` son las funciones para la manipulación de listas. Es particularmente útil cuando necesitas realizar operaciones acumulativas como sumar todos los números en una lista o encontrar el máximo.\n",
    "\n",
    "En esencia, *reduce toma dos argumentos*: una función que se encargará de acumular valores, y la lista de elementos que queremos reducir. La operación se realiza de manera eficiente y clara, permitiéndonos llegar a una conclusión general basada en todos los elementos de la lista.\n",
    "\n",
    "*¿Cómo implementamos Reduce paso a paso?*\n",
    "1. **Importar Functools**: Primero, importa la librería `functools` para poder hacer uso de `reduce`.\n",
    "\n",
    "2. **Definir la función Lambda**: Crear una función lambda que toma dos argumentos: `counter` (el valor acumulado) e `item` (el elemento actual de la lista) y define la operación de acumulación (en este caso, suma).\n",
    "\n",
    "3. **Enviarle la lista a iterar**: Finalmente, aplica la función reduce sobre la lista numbers."
   ]
  },
  {
   "cell_type": "code",
   "execution_count": 7,
   "id": "90afc461-b9bc-48c7-bbaf-526c1d2838e6",
   "metadata": {},
   "outputs": [
    {
     "data": {
      "text/plain": [
       "10"
      ]
     },
     "execution_count": 7,
     "metadata": {},
     "output_type": "execute_result"
    }
   ],
   "source": [
    "import functools\n",
    "\n",
    "numbers_1 = [1, 2 , 3, 4]\n",
    "#Suma todos los elementos de la lista\n",
    "result = functools.reduce(lambda counter, item: counter + item , numbers_1)\n",
    "result"
   ]
  },
  {
   "cell_type": "code",
   "execution_count": null,
   "id": "7c2583e0-4ff8-43a2-94cb-5dd13b4506eb",
   "metadata": {},
   "outputs": [],
   "source": []
  }
 ],
 "metadata": {
  "kernelspec": {
   "display_name": "Python 3 (ipykernel)",
   "language": "python",
   "name": "python3"
  },
  "language_info": {
   "codemirror_mode": {
    "name": "ipython",
    "version": 3
   },
   "file_extension": ".py",
   "mimetype": "text/x-python",
   "name": "python",
   "nbconvert_exporter": "python",
   "pygments_lexer": "ipython3",
   "version": "3.10.12"
  }
 },
 "nbformat": 4,
 "nbformat_minor": 5
}
