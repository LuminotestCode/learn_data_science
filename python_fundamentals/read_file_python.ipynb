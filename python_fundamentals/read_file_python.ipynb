{
 "cells": [
  {
   "cell_type": "markdown",
   "id": "ba936a7c-9d29-4caf-af5f-5b0726d45072",
   "metadata": {},
   "source": [
    "# Read files in python"
   ]
  },
  {
   "cell_type": "markdown",
   "id": "ccde164a-4f8c-4c5b-9c40-f3a24a7b6d07",
   "metadata": {},
   "source": [
    "Leer archivos en Python significa abrir un archivo que está guardado en tu computadora (por ejemplo `.txt`, `.csv`, `etc.`), acceder a su contenido y trabajar con él desde tu programa."
   ]
  },
  {
   "cell_type": "markdown",
   "id": "0d6a9849-3066-4c25-a230-ed1d49487ae6",
   "metadata": {},
   "source": [
    "### Tipos de archivos más comunes:"
   ]
  },
  {
   "cell_type": "markdown",
   "id": "c7d1f388-b836-4c26-bbe3-0a3e5d8d1940",
   "metadata": {},
   "source": [
    "* Texto plano (`.txt`)\n",
    "\n",
    "* CSV (separado por comas)\n",
    "\n",
    "* JSON, XML, etc. (otros formatos estructurados)"
   ]
  },
  {
   "cell_type": "markdown",
   "id": "f6aa56cf-cba5-41c3-8232-1eb053c91a6c",
   "metadata": {},
   "source": [
    "### ¿Por qué usar with open()?"
   ]
  },
  {
   "cell_type": "markdown",
   "id": "d94037a9-3a2d-46a9-804f-787451189d0f",
   "metadata": {},
   "source": [
    "El bloque `with`:\n",
    "\n",
    "* Cierra el archivo automáticamente al terminar\n",
    "\n",
    "* Es más seguro (evita pérdida de memoria o bloqueo de archivo)"
   ]
  },
  {
   "cell_type": "markdown",
   "id": "4623ae50-ea14-46b9-a2b8-deee8363a33a",
   "metadata": {},
   "source": [
    "### Sintaxis básica"
   ]
  },
  {
   "cell_type": "raw",
   "id": "215dfc9b-4afb-41a1-90c4-5ded6cac162a",
   "metadata": {},
   "source": [
    "with open(\"nombre_del_archivo.txt\", \"r\") as archivo:\n",
    "    contenido = archivo.read()"
   ]
  },
  {
   "cell_type": "markdown",
   "id": "169cd1e0-0022-4931-8633-f7daa5716045",
   "metadata": {},
   "source": [
    "* `open(...)`: abre el archivo.\n",
    "\n",
    "* `\"r\"`: modo de apertura: \"r\" es para leer.\n",
    "\n",
    "* `with ... as ...`: bloque que abre y cierra automáticamente el archivo (buena práctica).\n",
    "\n",
    "* `archivo.read()`: lee todo el contenido del archivo como una cadena de texto."
   ]
  },
  {
   "cell_type": "markdown",
   "id": "a5a0ba87-f2a6-49db-a14f-4961390cbd09",
   "metadata": {},
   "source": [
    "### Métodos de lectura"
   ]
  },
  {
   "cell_type": "raw",
   "id": "509b4e96-2eff-4c43-a7c2-401757c35f56",
   "metadata": {},
   "source": [
    "* `read()`\n",
    "  with open(\"archivo.txt\", \"r\") as f:\n",
    "    data = f.read()\n",
    "* `readline()`\n",
    "  with open(\"archivo.txt\", \"r\") as f:\n",
    "    linea1 = f.readline()\n",
    "    linea2 = f.readline()\n",
    "    print(linea1, linea2)\n",
    "* `readlines()`\n",
    "  with open(\"archivo.txt\", \"r\") as f:\n",
    "    lineas = f.readlines()\n",
    "    for linea in lineas:\n",
    "        print(linea.strip())\n",
    "* Iterar línea por linea\n",
    "  with open(\"archivo.txt\", \"r\") as f:\n",
    "    for linea in f:\n",
    "        print(linea.strip())"
   ]
  },
  {
   "cell_type": "markdown",
   "id": "7f738fa2-af68-4285-8c69-c98098d49465",
   "metadata": {},
   "source": [
    "### Modos de apertura"
   ]
  },
  {
   "cell_type": "markdown",
   "id": "f8508e04-c62b-4003-afd3-0468a1b28426",
   "metadata": {},
   "source": [
    "| Modo   | Significado                      |\n",
    "| ------ | -------------------------------- |\n",
    "| `\"r\"`  | Leer (default)                   |\n",
    "| `\"w\"`  | Escribir (borra todo el archivo) |\n",
    "| `\"a\"`  | Añadir al final                  |\n",
    "| `\"r+\"` | Leer y escribir                  |\n"
   ]
  },
  {
   "cell_type": "code",
   "execution_count": null,
   "id": "f9743586-5042-4b14-b555-d28d2243fab1",
   "metadata": {},
   "outputs": [],
   "source": []
  }
 ],
 "metadata": {
  "kernelspec": {
   "display_name": "Python 3 (ipykernel)",
   "language": "python",
   "name": "python3"
  },
  "language_info": {
   "codemirror_mode": {
    "name": "ipython",
    "version": 3
   },
   "file_extension": ".py",
   "mimetype": "text/x-python",
   "name": "python",
   "nbconvert_exporter": "python",
   "pygments_lexer": "ipython3",
   "version": "3.10.12"
  }
 },
 "nbformat": 4,
 "nbformat_minor": 5
}
