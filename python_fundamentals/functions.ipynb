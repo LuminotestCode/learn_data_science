{
 "cells": [
  {
   "cell_type": "markdown",
   "id": "0bf8c9ae-5ce4-425d-8cf9-696c4ccadc55",
   "metadata": {},
   "source": [
    "## Funciones con Python"
   ]
  },
  {
   "cell_type": "markdown",
   "id": "92771129-6e3f-45d8-9c59-67586095fc4a",
   "metadata": {},
   "source": [
    "En python se define una función mediante la palabra clave `def` , de manera que sea posible reusar bloques de código"
   ]
  },
  {
   "attachments": {
    "9ea76f2a-cb7d-4273-8761-947a57e114c6.png": {
     "image/png": "[encoded data removed]"
    }
   },
   "cell_type": "markdown",
   "id": "dfe699bd-adb5-4905-b687-714c391b52c7",
   "metadata": {},
   "source": [
    "![image.png](attachment:9ea76f2a-cb7d-4273-8761-947a57e114c6.png)"
   ]
  },
  {
   "cell_type": "markdown",
   "id": "09b148dc-ff82-4476-9a9d-69d9a6eab899",
   "metadata": {},
   "source": [
    "Se compone de la palabra clave *`def`* , el nombre de la función (*sumar*) , argumentos de la función *(number1, number2)*"
   ]
  },
  {
   "cell_type": "markdown",
   "id": "0e05e0b0-30d2-48db-ac52-37dfded4e533",
   "metadata": {},
   "source": [
    "### Argumentos variables en una función"
   ]
  },
  {
   "cell_type": "markdown",
   "id": "8d59ac72-b3f7-463a-bf43-26d841639410",
   "metadata": {},
   "source": [
    "Es posible pasarle a una función parámetros por defecto, pero que además sean variables o predefinidos si no se pasan en el argumento. Ejemplo:"
   ]
  },
  {
   "cell_type": "code",
   "execution_count": 6,
   "id": "62a61c8f-49e3-4bde-aa82-3720edbf22e3",
   "metadata": {},
   "outputs": [
    {
     "data": {
      "text/plain": [
       "24"
      ]
     },
     "execution_count": 6,
     "metadata": {},
     "output_type": "execute_result"
    }
   ],
   "source": [
    "def calculate_volume(alto, ancho , largo):\n",
    "    return alto*ancho*largo\n",
    "calculate_volume(2,3,4)"
   ]
  },
  {
   "cell_type": "markdown",
   "id": "2882eb8e-f67e-45dc-90f9-d9b300ec8094",
   "metadata": {},
   "source": [
    "Ahora definamos valores por defecto, de manera que no sean requeridos y tampoco genere error al ejecutar la función"
   ]
  },
  {
   "cell_type": "code",
   "execution_count": 7,
   "id": "6a3d1cfc-9ddd-4445-af41-c93b655c10e6",
   "metadata": {},
   "outputs": [
    {
     "data": {
      "text/plain": [
       "2"
      ]
     },
     "execution_count": 7,
     "metadata": {},
     "output_type": "execute_result"
    }
   ],
   "source": [
    "def calculate_volume(alto=1, ancho=1 , largo=1):\n",
    "    return alto*ancho*largo\n",
    "calculate_volume(alto=2)"
   ]
  },
  {
   "cell_type": "markdown",
   "id": "8ab40c81-5542-4436-a39e-127fec4a5348",
   "metadata": {},
   "source": [
    "Así el volumen es 2 , teniendo el alto en 2 unidades, ancho y largo igual a 1"
   ]
  },
  {
   "cell_type": "markdown",
   "id": "f5c7355c-8527-49bc-92ed-f151544fcc4c",
   "metadata": {},
   "source": [
    "### Retorno de varios valores en una única función"
   ]
  },
  {
   "cell_type": "markdown",
   "id": "479d8461-7129-4bfd-bd23-9ad1b89a8f5a",
   "metadata": {},
   "source": [
    "Continuemos con el cálculo del volumen de un paralelepipedo , con esa función podemos retornar cuantos valores queramos en la respuesta, siempre que asignemos dichos valores a la salida."
   ]
  },
  {
   "cell_type": "code",
   "execution_count": 14,
   "id": "25abc0f5-35fc-445b-bf1b-d7a8b0de17de",
   "metadata": {},
   "outputs": [
    {
     "name": "stdout",
     "output_type": "stream",
     "text": [
      "2\n",
      "2\n",
      "Cálculo de volumen\n"
     ]
    }
   ],
   "source": [
    "def calculate_volume(alto=1, ancho=1 , largo=1):\n",
    "    return alto*ancho*largo, alto, \"Cálculo de volumen\"\n",
    "volume, alto, texto = calculate_volume(alto=2)\n",
    "print(alto)\n",
    "print(volume)\n",
    "print(texto)"
   ]
  },
  {
   "cell_type": "code",
   "execution_count": null,
   "id": "689717f6-c838-4fad-aa6f-cd0301a16012",
   "metadata": {},
   "outputs": [],
   "source": []
  }
 ],
 "metadata": {
  "kernelspec": {
   "display_name": "Python 3 (ipykernel)",
   "language": "python",
   "name": "python3"
  },
  "language_info": {
   "codemirror_mode": {
    "name": "ipython",
    "version": 3
   },
   "file_extension": ".py",
   "mimetype": "text/x-python",
   "name": "python",
   "nbconvert_exporter": "python",
   "pygments_lexer": "ipython3",
   "version": "3.10.12"
  }
 },
 "nbformat": 4,
 "nbformat_minor": 5
}
