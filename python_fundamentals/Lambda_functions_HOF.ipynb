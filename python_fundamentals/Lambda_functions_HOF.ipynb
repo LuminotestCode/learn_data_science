{
 "cells": [
  {
   "cell_type": "markdown",
   "id": "bfb9ade7-37c0-447a-b864-da9c65ddceee",
   "metadata": {},
   "source": [
    "# Lambdas"
   ]
  },
  {
   "cell_type": "markdown",
   "id": "bde972d0-2c34-4909-a6c3-8271a411155d",
   "metadata": {},
   "source": [
    "*¿Que es lambda?* Son conocidas como Funciones Anónimas o lambdas, en donde no tienen un identificador o no tienen un nombre, se puede definir su estructura de la siguiente manera: `lambda argumentos: expresión`, las funciones lambda pueden tener los argumentos que se requieran pero solo una linea de código o una expresión"
   ]
  },
  {
   "cell_type": "code",
   "execution_count": 1,
   "id": "14af032f-d14c-4571-8b48-1d61f7a7b4c1",
   "metadata": {},
   "outputs": [
    {
     "name": "stdout",
     "output_type": "stream",
     "text": [
      "6\n",
      "6\n"
     ]
    }
   ],
   "source": [
    "def increment(x):\n",
    "  return x + 1\n",
    "\n",
    "result = increment(5)\n",
    "\n",
    "print(result)\n",
    "\n",
    "increment_v2 = lambda x : x + 1\n",
    "result_v2 = increment_v2(5)\n",
    "\n",
    "print(result_v2)"
   ]
  },
  {
   "cell_type": "markdown",
   "id": "f4754c4c-ca64-473c-b6ea-b939abbff78c",
   "metadata": {},
   "source": [
    ">La función lambda puede tomar cualquier cantidad de argumentos, pero solo puede tener una expresión."
   ]
  },
  {
   "cell_type": "code",
   "execution_count": 3,
   "id": "1113213f-a425-474a-b2df-94d9bc759ec5",
   "metadata": {},
   "outputs": [
    {
     "name": "stdout",
     "output_type": "stream",
     "text": [
      "Sus datos completos son Jhon Doe tiene 35 años y vive en Colombia\n"
     ]
    }
   ],
   "source": [
    "datos_completos = lambda name, last_name, age, countrie: f'Sus datos completos son {name.title()} {last_name.title()} tiene {age} años y vive en {countrie.title()}'\n",
    "text = datos_completos('Jhon', 'Doe', 35, 'colombia')\n",
    "print(text)"
   ]
  },
  {
   "cell_type": "markdown",
   "id": "7ed32162-1aaa-43c0-a9f9-ddc90bf19dac",
   "metadata": {},
   "source": [
    "**Bibliografía**: https://docs.python.org/3/tutorial/controlflow.html#lambda-expressions"
   ]
  },
  {
   "cell_type": "markdown",
   "id": "5fb202a5-e690-411f-b3bb-37a27b27c257",
   "metadata": {},
   "source": [
    "## High Order functions (HOF)"
   ]
  },
  {
   "cell_type": "markdown",
   "id": "00676f6a-bf3a-4684-9d10-50cb46c63b35",
   "metadata": {},
   "source": [
    "El concepto de Higher Order Functions (HOF) son funciones, denominadas en sus siglas como HOF, permiten enviar como parámetros a otras funciones y ejecutarlas dentro de ellas. Imagina la versatilidad y el poder que esto otorga al desarrollar soluciones complejas de manera más eficiente.\n",
    "Primero veamos el concepto con funciones convencionales"
   ]
  },
  {
   "cell_type": "code",
   "execution_count": 4,
   "id": "b4bafb52-9a66-4e3e-9c34-5632f828000a",
   "metadata": {},
   "outputs": [
    {
     "name": "stdout",
     "output_type": "stream",
     "text": [
      "7\n"
     ]
    }
   ],
   "source": [
    "def increment(x):\n",
    "    return x + 1\n",
    "\n",
    "def high_order_function(x, func):\n",
    "    return x + func(x)\n",
    "\n",
    "print(high_order_function(3, increment))"
   ]
  },
  {
   "cell_type": "markdown",
   "id": "b6d90041-8eee-4aac-886b-9db15fbb4319",
   "metadata": {},
   "source": [
    "Ahora con lambda functions"
   ]
  },
  {
   "cell_type": "code",
   "execution_count": 6,
   "id": "41bd1fa1-0cdc-45d6-90e5-2c638f9eb68b",
   "metadata": {},
   "outputs": [
    {
     "data": {
      "text/plain": [
       "7"
      ]
     },
     "execution_count": 6,
     "metadata": {},
     "output_type": "execute_result"
    }
   ],
   "source": [
    "high_order_func_v2 = lambda x, func : x + func(x)\n",
    "high_order_func_v2(3, lambda x: x + 1)"
   ]
  },
  {
   "cell_type": "code",
   "execution_count": null,
   "id": "5f2b7a6f-b744-469c-9b33-7ade7dec4c7d",
   "metadata": {},
   "outputs": [],
   "source": []
  }
 ],
 "metadata": {
  "kernelspec": {
   "display_name": "Python 3 (ipykernel)",
   "language": "python",
   "name": "python3"
  },
  "language_info": {
   "codemirror_mode": {
    "name": "ipython",
    "version": 3
   },
   "file_extension": ".py",
   "mimetype": "text/x-python",
   "name": "python",
   "nbconvert_exporter": "python",
   "pygments_lexer": "ipython3",
   "version": "3.10.12"
  }
 },
 "nbformat": 4,
 "nbformat_minor": 5
}
