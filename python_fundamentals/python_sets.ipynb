{
 "cells": [
  {
   "cell_type": "markdown",
   "id": "168125a4-a2ba-4ea6-b90c-d0f2ba10e62c",
   "metadata": {},
   "source": [
    "# Conjutos en Python 🐍"
   ]
  },
  {
   "cell_type": "markdown",
   "id": "501d5f12-dd61-45c2-b444-00d01cc4a65e",
   "metadata": {},
   "source": [
    "Es una nueva estrcutura de datos llamada conjuntos o `sets`. El conjunto es algo que agrupa una serie de datos que tienen algo en común. Tengamos en cuenta las siguientes características:\n",
    "* Se pueden modificar (Son mutables)\n",
    "* No tienen un orden\n",
    "* No permite duplicados\n",
    "* Solo tienen valores , NO tienen estructura llave : valor"
   ]
  },
  {
   "cell_type": "markdown",
   "id": "574216b6-a063-4ad0-b4e2-dca817a460ba",
   "metadata": {},
   "source": [
    "#### Estructura en código <>"
   ]
  },
  {
   "cell_type": "code",
   "execution_count": 16,
   "id": "e4c0c1ed-0bdc-42db-926e-283322bc9b7d",
   "metadata": {},
   "outputs": [
    {
     "name": "stdout",
     "output_type": "stream",
     "text": [
      "{'mex', 'bol', 'col'}\n"
     ]
    },
    {
     "data": {
      "text/plain": [
       "set"
      ]
     },
     "execution_count": 16,
     "metadata": {},
     "output_type": "execute_result"
    }
   ],
   "source": [
    "# Structure in a set\n",
    "set_countries = {'col', 'mex', 'bol'}\n",
    "print(set_countries)\n",
    "type(set_countries)"
   ]
  },
  {
   "cell_type": "markdown",
   "id": "4aac68b0-52de-4f55-be96-4550ef7675fa",
   "metadata": {},
   "source": [
    "#### Crear sets a partir de otros elementos"
   ]
  },
  {
   "cell_type": "code",
   "execution_count": 17,
   "id": "76a5bc48-ab6c-4317-b602-8a1c41bfb2f9",
   "metadata": {},
   "outputs": [
    {
     "data": {
      "text/plain": [
       "{' ', 'H', 'a', 'c', 'e', 'l', 'm', 'o', 's', 't', 'á'}"
      ]
     },
     "execution_count": 17,
     "metadata": {},
     "output_type": "execute_result"
    }
   ],
   "source": [
    "#String\n",
    "set_from_string = set('Hola como estás')\n",
    "set_from_string"
   ]
  },
  {
   "cell_type": "markdown",
   "id": "9548d1fc-1f1e-45e5-94d4-cd9ac5ea357d",
   "metadata": {},
   "source": [
    ">Es importante notar que divide la cadena por elementos individuales y no repite ningún elemento"
   ]
  },
  {
   "cell_type": "code",
   "execution_count": 18,
   "id": "cdf5ba1e-58b8-4634-8d4a-66924996fd17",
   "metadata": {},
   "outputs": [
    {
     "data": {
      "text/plain": [
       "{('a', 'b'), 1, 2, 3}"
      ]
     },
     "execution_count": 18,
     "metadata": {},
     "output_type": "execute_result"
    }
   ],
   "source": [
    "#tuple\n",
    "set_from_tuple = set((1, 2, ('a', 'b'), 3))\n",
    "set_from_tuple"
   ]
  },
  {
   "cell_type": "code",
   "execution_count": 19,
   "id": "6f501432-be66-4822-9750-10de4094212c",
   "metadata": {},
   "outputs": [
    {
     "data": {
      "text/plain": [
       "{1, 2, 3, 4, 5, 6}"
      ]
     },
     "execution_count": 19,
     "metadata": {},
     "output_type": "execute_result"
    }
   ],
   "source": [
    "#List\n",
    "set_from_list = set([1,2,3,3, 4, 4,5,6])\n",
    "set_from_list"
   ]
  },
  {
   "cell_type": "markdown",
   "id": "899d8e37-cda5-4190-aab8-0cf94f78a11a",
   "metadata": {},
   "source": [
    "#### Modificar un conjunto"
   ]
  },
  {
   "cell_type": "markdown",
   "id": "756bdb0e-150f-4fe1-bec6-8998fc91fde4",
   "metadata": {},
   "source": [
    "Existen métodos y operaciones que se pueden realizar con los set de datos"
   ]
  },
  {
   "cell_type": "code",
   "execution_count": 22,
   "id": "620c190c-d3f5-4579-9250-5eac982aa7ce",
   "metadata": {},
   "outputs": [
    {
     "data": {
      "text/plain": [
       "6"
      ]
     },
     "execution_count": 22,
     "metadata": {},
     "output_type": "execute_result"
    }
   ],
   "source": [
    "#len in a  set\n",
    "size = len(set_from_list)\n",
    "size"
   ]
  },
  {
   "cell_type": "code",
   "execution_count": 25,
   "id": "4a7f67da-3902-4c64-bcc8-c20b881db42b",
   "metadata": {},
   "outputs": [
    {
     "name": "stdout",
     "output_type": "stream",
     "text": [
      "True\n",
      "True\n",
      "False\n"
     ]
    }
   ],
   "source": [
    "#Verify if a element is in a set\n",
    "print(4 in set_from_list)\n",
    "print('col' in set_countries)\n",
    "print(65 in set_from_list)"
   ]
  },
  {
   "cell_type": "markdown",
   "id": "febccc76-a49e-4f4d-bc8e-421574d5b5de",
   "metadata": {},
   "source": [
    "##### Add elements"
   ]
  },
  {
   "cell_type": "code",
   "execution_count": 29,
   "id": "ef0aca4c-8862-45dc-ab85-e7aef125e1d4",
   "metadata": {},
   "outputs": [
    {
     "data": {
      "text/plain": [
       "{1, 2, 3, 4, 5, 6, 65}"
      ]
     },
     "execution_count": 29,
     "metadata": {},
     "output_type": "execute_result"
    }
   ],
   "source": [
    "set_from_list.add(65)\n",
    "set_from_list"
   ]
  },
  {
   "cell_type": "markdown",
   "id": "f7341329-af11-4ddf-9245-b892f4b8584d",
   "metadata": {},
   "source": [
    "##### Update sets"
   ]
  },
  {
   "cell_type": "code",
   "execution_count": 32,
   "id": "e52c0ecd-d9b4-407a-9943-15ddf499af51",
   "metadata": {},
   "outputs": [
    {
     "name": "stdout",
     "output_type": "stream",
     "text": [
      "{1, 2, 3, 4, 5, 6, 65, 8}\n"
     ]
    },
    {
     "data": {
      "text/plain": [
       "{'arg', 'bol', 'chi', 'col', 'mex'}"
      ]
     },
     "execution_count": 32,
     "metadata": {},
     "output_type": "execute_result"
    }
   ],
   "source": [
    "set_from_list.update({65},{8})\n",
    "print(set_from_list)\n",
    "set_countries.update({'arg'},{'chi'})\n",
    "set_countries"
   ]
  },
  {
   "cell_type": "markdown",
   "id": "bf966ae3-3455-40b1-81fd-3f863c4fe917",
   "metadata": {},
   "source": [
    "> Aunque se pase el elemnto duplicado en el update , solo existe una vez en el set"
   ]
  },
  {
   "cell_type": "markdown",
   "id": "1b074c1c-e755-49e7-8365-185b71c2cd90",
   "metadata": {},
   "source": [
    "##### Remove elements"
   ]
  },
  {
   "cell_type": "code",
   "execution_count": 34,
   "id": "8a1c3627-b1b5-4b32-9c15-d6a7c80731c4",
   "metadata": {},
   "outputs": [
    {
     "ename": "KeyError",
     "evalue": "'chi'",
     "output_type": "error",
     "traceback": [
      "\u001b[0;31m---------------------------------------------------------------------------\u001b[0m",
      "\u001b[0;31mKeyError\u001b[0m                                  Traceback (most recent call last)",
      "Cell \u001b[0;32mIn[34], line 1\u001b[0m\n\u001b[0;32m----> 1\u001b[0m \u001b[43mset_countries\u001b[49m\u001b[38;5;241;43m.\u001b[39;49m\u001b[43mremove\u001b[49m\u001b[43m(\u001b[49m\u001b[38;5;124;43m'\u001b[39;49m\u001b[38;5;124;43mchi\u001b[39;49m\u001b[38;5;124;43m'\u001b[39;49m\u001b[43m)\u001b[49m\n\u001b[1;32m      2\u001b[0m set_countries\n",
      "\u001b[0;31mKeyError\u001b[0m: 'chi'"
     ]
    }
   ],
   "source": [
    "set_countries.remove('chi')\n",
    "set_countries"
   ]
  },
  {
   "cell_type": "code",
   "execution_count": 35,
   "id": "f50dec9c-8d90-42b7-8edd-fd5f6755f459",
   "metadata": {},
   "outputs": [
    {
     "data": {
      "text/plain": [
       "{'arg', 'bol', 'col', 'mex'}"
      ]
     },
     "execution_count": 35,
     "metadata": {},
     "output_type": "execute_result"
    }
   ],
   "source": [
    "#Remove if dont exist\n",
    "set_countries.discard('chi')\n",
    "set_countries"
   ]
  },
  {
   "cell_type": "code",
   "execution_count": null,
   "id": "26f4043b-c39b-4c37-a026-caa82c2e5d2b",
   "metadata": {},
   "outputs": [],
   "source": [
    "#Remove all elements\n",
    "set_countries.clear()"
   ]
  },
  {
   "cell_type": "markdown",
   "id": "c63cca08-508d-40f9-8132-560e5e92c24e",
   "metadata": {},
   "source": [
    "### Operaciones entre conjuntos"
   ]
  },
  {
   "attachments": {
    "e0cad247-4d4c-4308-896d-7a13ca9cc332.png": {
     "image/png": "[encoded data removed]"
    }
   },
   "cell_type": "markdown",
   "id": "ef29c0e6-0bb3-49e7-b8c6-5a8f10dcab9b",
   "metadata": {},
   "source": [
    "#### Unión\n",
    "![image.png](attachment:e0cad247-4d4c-4308-896d-7a13ca9cc332.png)"
   ]
  },
  {
   "cell_type": "code",
   "execution_count": 37,
   "id": "086c7d38-b5d9-4ebb-987b-a36426ddf552",
   "metadata": {},
   "outputs": [
    {
     "data": {
      "text/plain": [
       "{'bol', 'col', 'mex', 'pe', 'ven'}"
      ]
     },
     "execution_count": 37,
     "metadata": {},
     "output_type": "execute_result"
    }
   ],
   "source": [
    "set_a = {'col','mex', 'bol'}\n",
    "set_b = {'pe', 'ven', 'bol'}\n",
    "set_c = set_a.union(set_b)\n",
    "#Es posible también \n",
    "set_c = (set_a | set_b)\n",
    "set_c"
   ]
  },
  {
   "cell_type": "markdown",
   "id": "80a2ace0-4b02-4877-8dc0-b22d8d4eb2d6",
   "metadata": {},
   "source": [
    "> Nuevamente aparece el conjunto c sin elementos duplicados"
   ]
  },
  {
   "attachments": {
    "8d78bfd9-6aca-4ecc-909a-8053d659e8a6.png": {
     "image/png": "[encoded data removed]"
    }
   },
   "cell_type": "markdown",
   "id": "da6f5051-76ce-4342-ac72-5524929b6af3",
   "metadata": {},
   "source": [
    "#### Intersección\n",
    "![image.png](attachment:8d78bfd9-6aca-4ecc-909a-8053d659e8a6.png)"
   ]
  },
  {
   "cell_type": "code",
   "execution_count": 38,
   "id": "2d84e394-d360-4af9-a1e7-35e47615e479",
   "metadata": {},
   "outputs": [
    {
     "data": {
      "text/plain": [
       "{'bol'}"
      ]
     },
     "execution_count": 38,
     "metadata": {},
     "output_type": "execute_result"
    }
   ],
   "source": [
    "set_a = {'col','mex', 'bol'}\n",
    "set_b = {'pe', 'ven', 'bol'}\n",
    "set_d = set_a.intersection(set_b)\n",
    "#Es posible también \n",
    "set_d = (set_a & set_b)\n",
    "set_d"
   ]
  },
  {
   "attachments": {
    "c8400b24-f915-4c4e-a876-3e0fe9a1aedb.png": {
     "image/png": "[encoded data removed]"
    }
   },
   "cell_type": "markdown",
   "id": "61b59f90-942d-4afc-bc36-40652f8fa63a",
   "metadata": {},
   "source": [
    "#### Diferencia\n",
    "![image.png](attachment:c8400b24-f915-4c4e-a876-3e0fe9a1aedb.png)"
   ]
  },
  {
   "cell_type": "code",
   "execution_count": 39,
   "id": "a2bc6ecc-f4e4-4124-b8a2-72a06ed41710",
   "metadata": {},
   "outputs": [
    {
     "data": {
      "text/plain": [
       "{'col', 'mex'}"
      ]
     },
     "execution_count": 39,
     "metadata": {},
     "output_type": "execute_result"
    }
   ],
   "source": [
    "set_a = {'col','mex', 'bol'}\n",
    "set_b = {'pe', 'ven', 'bol'}\n",
    "set_e = set_a.difference(set_b)\n",
    "#Es posible también \n",
    "set_e = (set_a - set_b)\n",
    "set_e"
   ]
  },
  {
   "attachments": {
    "ec141f48-6838-40c5-abbd-1b1dbec34773.png": {
     "image/png": "[encoded data removed]"
    }
   },
   "cell_type": "markdown",
   "id": "412a570a-3157-4395-94be-9599320a07fb",
   "metadata": {},
   "source": [
    "#### Diferencia simétrica\n",
    "![image.png](attachment:ec141f48-6838-40c5-abbd-1b1dbec34773.png)"
   ]
  },
  {
   "cell_type": "code",
   "execution_count": 41,
   "id": "45a584ba-3c63-4bf1-9148-25e0f9f31ba5",
   "metadata": {},
   "outputs": [
    {
     "data": {
      "text/plain": [
       "{'col', 'mex', 'pe', 'ven'}"
      ]
     },
     "execution_count": 41,
     "metadata": {},
     "output_type": "execute_result"
    }
   ],
   "source": [
    "set_a = {'col','mex', 'bol'}\n",
    "set_b = {'pe', 'ven', 'bol'}\n",
    "set_f = set_a.symmetric_difference(set_b)\n",
    "#Es posible también \n",
    "set_f = (set_a ^ set_b)\n",
    "set_f"
   ]
  },
  {
   "cell_type": "code",
   "execution_count": null,
   "id": "ad78004d-0866-45ad-90b2-6c815584ea29",
   "metadata": {},
   "outputs": [],
   "source": []
  }
 ],
 "metadata": {
  "kernelspec": {
   "display_name": "Python 3 (ipykernel)",
   "language": "python",
   "name": "python3"
  },
  "language_info": {
   "codemirror_mode": {
    "name": "ipython",
    "version": 3
   },
   "file_extension": ".py",
   "mimetype": "text/x-python",
   "name": "python",
   "nbconvert_exporter": "python",
   "pygments_lexer": "ipython3",
   "version": "3.10.12"
  }
 },
 "nbformat": 4,
 "nbformat_minor": 5
}
