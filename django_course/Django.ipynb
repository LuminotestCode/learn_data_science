{
 "cells": [
  {
   "cell_type": "markdown",
   "id": "70080ff3-303c-454b-a558-2b1412e7cd0c",
   "metadata": {},
   "source": [
    "# Django"
   ]
  },
  {
   "cell_type": "markdown",
   "id": "caec78ff-e19c-4d06-b68d-f676f963da3e",
   "metadata": {},
   "source": [
    "Django en un inicio fué creado para construir blogs, pero luego fue tomando relevancia como framework de backend para construir aplicaciones complejas. Muchas compañías construyeron sus primeras aplicaciones con Django"
   ]
  },
  {
   "cell_type": "markdown",
   "id": "311a4286-54bc-416c-8b7d-040456f8520c",
   "metadata": {
    "jp-MarkdownHeadingCollapsed": true
   },
   "source": [
    "## Entornos virtuales"
   ]
  },
  {
   "cell_type": "markdown",
   "id": "0039ab15-b044-4ec1-bd4a-6c056ff88ae5",
   "metadata": {},
   "source": [
    "Los entornos virtuales permiten gestionar diferentes versiones de paquetes y librerías en un mismo equipo sin conflictos. Esto es crucial cuando se trabaja en múltiples proyectos que requieren distintas versiones de Django o cualquier otro paquete de Python."
   ]
  },
  {
   "cell_type": "markdown",
   "id": "09248dfc-033c-4448-939a-291ef19e8d73",
   "metadata": {},
   "source": [
    "**Crear un entorno virtual** : para crear un entorno virtual desde una terminal con unix *(El flag `-m` significa module Le indica al intérprete de Python que busque el módulo especificado (venv en este caso) en el path del sistema)*"
   ]
  },
  {
   "cell_type": "raw",
   "id": "30971bb8-d16c-4220-b265-c4ecbbb62ea9",
   "metadata": {},
   "source": [
    "python3 -m venv <path donde se crea el entorno>"
   ]
  },
  {
   "cell_type": "markdown",
   "id": "be92acc7-e672-4cfe-8925-dbf16f869801",
   "metadata": {},
   "source": [
    "Y ahora se activa el entorno virtual, con el comando `source`, el nombre del entorno `venv` , la carpeta `bin` y el script `activate`"
   ]
  },
  {
   "cell_type": "raw",
   "id": "47d3cf80-cc33-4713-b4c6-31f2984bd2fc",
   "metadata": {},
   "source": [
    "source venv/bin/activate"
   ]
  },
  {
   "cell_type": "markdown",
   "id": "d75abd56-2ae9-45d8-8cf3-498d118f3db0",
   "metadata": {
    "jp-MarkdownHeadingCollapsed": true
   },
   "source": [
    "## PIP"
   ]
  },
  {
   "cell_type": "markdown",
   "id": "95a7de5f-76c0-4967-a021-da0a7b714535",
   "metadata": {},
   "source": [
    "**pip** es el sistema de gestión de paquetes estándar para Python. Su nombre originalmente significaba *\"Pip Installs Packages\"* o *\"Pip Installs Python\"*"
   ]
  },
  {
   "cell_type": "markdown",
   "id": "013cd287-29c5-40fd-a195-f42966d80b16",
   "metadata": {},
   "source": [
    "### ¿Que es pip?"
   ]
  },
  {
   "cell_type": "markdown",
   "id": "0bf1f934-8916-4cd2-9316-a9f102158dae",
   "metadata": {},
   "source": [
    "pip es una herramienta de línea de comandos que permite instalar, actualizar y desinstalar paquetes de Python desde repositorios como PyPI (Python Package Index). Viene incluido por defecto con Python 3.4+ y Python 2.7.9+."
   ]
  },
  {
   "cell_type": "markdown",
   "id": "0f64e0b5-2450-483c-a921-f74287cd2d70",
   "metadata": {},
   "source": [
    "### Instalar pip"
   ]
  },
  {
   "cell_type": "raw",
   "id": "05db6fe2-ee8c-4744-b3f9-91992a3f79d6",
   "metadata": {},
   "source": [
    "python -m ensurepip --upgrade"
   ]
  },
  {
   "cell_type": "markdown",
   "id": "da60cae1-3e16-41e1-ad5f-418828242202",
   "metadata": {},
   "source": [
    "### Instalar paquetes con pip "
   ]
  },
  {
   "cell_type": "raw",
   "id": "0e87f01c-2fb5-4308-a7f6-55fc262b69bc",
   "metadata": {},
   "source": [
    "pip install <nombre_paquete>"
   ]
  },
  {
   "cell_type": "markdown",
   "id": "21ec6240-6b35-421f-9a02-89d4c7ff9a22",
   "metadata": {},
   "source": [
    "### Desinstalar paquetes"
   ]
  },
  {
   "cell_type": "raw",
   "id": "7c9c44c8-e7f0-4adc-b26f-f9090d250648",
   "metadata": {},
   "source": [
    "pip uninstall <nombre_paquete>"
   ]
  },
  {
   "cell_type": "markdown",
   "id": "b1098d66-092f-4b53-a5ac-4a5c63fb3ca1",
   "metadata": {},
   "source": [
    "### Listar paquetes instalados"
   ]
  },
  {
   "cell_type": "raw",
   "id": "3efb59ab-6df5-4ebb-ad6e-d3e2f1e45268",
   "metadata": {},
   "source": [
    "pip list #Todos los paquetes\n",
    "pip show nombre_paquete  # información detallada "
   ]
  },
  {
   "cell_type": "markdown",
   "id": "75cdbe60-d3e7-4084-9b86-60fa920042ff",
   "metadata": {},
   "source": [
    "### Actualizar paquetes"
   ]
  },
  {
   "cell_type": "raw",
   "id": "00147fc6-0298-4eb8-9278-e9bc918c60aa",
   "metadata": {},
   "source": [
    "pip install --upgrade <nombre_paquete>"
   ]
  },
  {
   "cell_type": "markdown",
   "id": "68f9ab21-a1d7-452e-9532-df30a562f8b6",
   "metadata": {},
   "source": [
    "### Buscar paquetes"
   ]
  },
  {
   "cell_type": "raw",
   "id": "57663aca-9870-4540-8be5-6600951ce7d1",
   "metadata": {},
   "source": [
    "pip search <término_búsqueda>"
   ]
  },
  {
   "cell_type": "markdown",
   "id": "f9e57e20-b872-4e49-bd19-08c66d470eef",
   "metadata": {},
   "source": [
    "## Instalar Django"
   ]
  },
  {
   "cell_type": "markdown",
   "id": "507ca47c-6dcf-4294-bfe1-66c11e467bd7",
   "metadata": {},
   "source": [
    "Con el entorno virtual activado , procedemos a instalar los paquetes necesarios"
   ]
  },
  {
   "cell_type": "raw",
   "id": "2d371bab-521b-4ff7-a4f4-42de34f3926d",
   "metadata": {},
   "source": [
    "pip install Django"
   ]
  },
  {
   "cell_type": "markdown",
   "id": "8872df51-146c-4704-9e0e-0ac65d24b492",
   "metadata": {},
   "source": [
    "### Django admin"
   ]
  },
  {
   "cell_type": "markdown",
   "id": "a9885bc4-84c1-4e42-910b-a57de8473d76",
   "metadata": {},
   "source": [
    "django-admin es la utilidad de línea de comandos principal de Django que proporciona tareas administrativas para proyectos Django. Es el punto de entrada para crear y gestionar proyectos Django.\n",
    "django-admin es un script que se instala automáticamente cuando instalas Django. Proporciona comandos para:\n",
    "* Crear nuevos proyectos Django\n",
    "* Realizar tareas administrativas\n",
    "* Gestionar la base de datos\n",
    "* Ejecutar el servidor de desarrollo"
   ]
  },
  {
   "cell_type": "markdown",
   "id": "443fa870-6980-4cc7-a369-8e8002bdb0b5",
   "metadata": {},
   "source": [
    "#### Comandos principales"
   ]
  },
  {
   "cell_type": "raw",
   "id": "03403f15-3c52-4b93-bc52-d2a55b002250",
   "metadata": {},
   "source": [
    "# Crear un nuevo proyecto\n",
    "django-admin startproject <nombre_proyecto>"
   ]
  },
  {
   "cell_type": "markdown",
   "id": "5aea7b2d-9b54-4f31-98e8-f2f2fffe4578",
   "metadata": {},
   "source": [
    "#### Estructura del proyecto"
   ]
  },
  {
   "cell_type": "raw",
   "id": "043d3df8-ebc3-4f20-874f-ec59bf88ae8d",
   "metadata": {},
   "source": [
    "mi_blog/\n",
    "    manage.py\n",
    "    mi_blog/\n",
    "        __init__.py\n",
    "        settings.py\n",
    "        urls.py\n",
    "        asgi.py\n",
    "        wsgi.py"
   ]
  },
  {
   "cell_type": "raw",
   "id": "e78b744b-c2bb-4d5d-9188-4cc25cb57322",
   "metadata": {},
   "source": [
    "# Ver todos los comandos disponibles\n",
    "django-admin help\n",
    "\n",
    "# Ver ayuda de un comando específico\n",
    "django-admin help <comando>\n",
    "\n",
    "# Verificar la versión de Django\n",
    "django-admin version"
   ]
  },
  {
   "cell_type": "markdown",
   "id": "f31b9948-9a60-4415-9dc1-e771a286a4bb",
   "metadata": {},
   "source": [
    "### python manage.py"
   ]
  },
  {
   "cell_type": "markdown",
   "id": "f4466973-63a7-4298-8c61-a765beeccad6",
   "metadata": {},
   "source": [
    "`manage.py` es un script de Python que se genera automáticamente cuando creas un proyecto Django con `django-admin startproject`. Actúa como una interfaz de línea de comandos para interactuar con tu proyecto Django."
   ]
  },
  {
   "cell_type": "markdown",
   "id": "a780f143-fcf2-49d0-a0c1-85362f827940",
   "metadata": {},
   "source": [
    "#### Comandos básicos"
   ]
  },
  {
   "cell_type": "raw",
   "id": "6698b49d-d2d2-40ee-b2a9-7ca9a4a9fe0c",
   "metadata": {},
   "source": [
    "#Obtener todos los comandos\n",
    "python manage.py help\n",
    "python manage.py --help\n",
    "\n",
    "#Ayuda de un comando específico\n",
    "python manage.py help runserver\n",
    "\n",
    "# Iniciar servidor en puerto por defecto (8000)\n",
    "python manage.py runserver\n",
    "\n",
    "# Especificar puerto\n",
    "python manage.py runserver 8080\n",
    "\n",
    "# Especificar host y puerto\n",
    "python manage.py runserver 0.0.0.0:8000\n",
    "\n",
    "# Con configuración específica\n",
    "python manage.py runserver --settings=config.local_settings\n",
    "\n",
    "# Crear nueva aplicación\n",
    "python manage.py startapp nombre_app\n",
    "\n",
    "# Crear migraciones para cambios en modelos\n",
    "python manage.py makemigrations\n",
    "\n",
    "# Crear migraciones para app específica\n",
    "python manage.py makemigrations usuarios\n",
    "\n",
    "# Aplicar migraciones\n",
    "python manage.py migrate\n",
    "\n",
    "# Ver migraciones pendientes\n",
    "python manage.py showmigrations\n",
    "\n",
    "# Ver SQL de una migración\n",
    "python manage.py sqlmigrate usuarios 0001\n",
    "\n",
    "# Migración falsa (marcar como aplicada sin ejecutar)\n",
    "python manage.py migrate --fake usuarios 0001\n",
    "\n",
    "# Crear superusuario\n",
    "python manage.py createsuperuser\n",
    "\n",
    "# Cambiar contraseña de usuario\n",
    "python manage.py changepassword admin\n",
    "\n",
    "# Cargar datos iniciales\n",
    "python manage.py loaddata fixtures/datos_iniciales.json\n",
    "\n",
    "# Crear archivo de datos (dump)\n",
    "python manage.py dumpdata > datos_backup.json\n",
    "python manage.py dumpdata usuarios > usuarios_backup.json\n",
    "\n",
    "# Abrir shell de Django\n",
    "python manage.py shell\n",
    "\n",
    "# Ejecutar todos los tests\n",
    "python manage.py test\n",
    "\n",
    "# Test de una aplicación específica\n",
    "python manage.py test usuarios\n",
    "\n",
    "# Abrir shell de base de datos\n",
    "python manage.py dbshell\n",
    "\n",
    "# Crear tablas sin migraciones (no recomendado)\n",
    "python manage.py syncdb\n",
    "\n",
    "# Limpiar y recrear base de datos\n",
    "python manage.py flush\n",
    "\n",
    "# Inspeccionar base de datos existente\n",
    "python manage.py inspectdb > models.py\n",
    "\n",
    "# Ver configuración actual\n",
    "python manage.py diffsettings\n",
    "\n",
    "# Verificar problemas en el proyecto\n",
    "python manage.py check\n",
    "\n",
    "# Verificar solo una app\n",
    "python manage.py check usuarios"
   ]
  },
  {
   "cell_type": "code",
   "execution_count": null,
   "id": "00a30622-457f-4372-91c5-6c52cf6c1355",
   "metadata": {},
   "outputs": [],
   "source": []
  }
 ],
 "metadata": {
  "kernelspec": {
   "display_name": "Python 3 (ipykernel)",
   "language": "python",
   "name": "python3"
  },
  "language_info": {
   "codemirror_mode": {
    "name": "ipython",
    "version": 3
   },
   "file_extension": ".py",
   "mimetype": "text/x-python",
   "name": "python",
   "nbconvert_exporter": "python",
   "pygments_lexer": "ipython3",
   "version": "3.10.12"
  }
 },
 "nbformat": 4,
 "nbformat_minor": 5
}
