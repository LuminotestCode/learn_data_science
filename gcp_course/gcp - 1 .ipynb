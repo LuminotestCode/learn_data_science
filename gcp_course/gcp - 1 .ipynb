{
 "cells": [
  {
   "cell_type": "markdown",
   "id": "f70c7c79-7be8-49cb-8ed1-87e96c5c6d59",
   "metadata": {},
   "source": [
    "# Clase 1 - Certificación GCP"
   ]
  },
  {
   "cell_type": "markdown",
   "id": "88976a9e-5da3-4754-affe-7197027bfa8c",
   "metadata": {},
   "source": [
    "### Ingeniero de datos\n",
    "\n",
    "Se encarga de diseñar , construir , transformar y entrega datos\n",
    "Crear **pipelines** de datos para construir la infraestructura automatizada de los datos\n",
    "* Pipelines\n",
    "\n",
    "### Funciones \n",
    "\n",
    "- Ingesta de datos\n",
    "- Procesamiento\n",
    "- Almacenamiento\n",
    "- Automatización\n",
    "- Optimización"
   ]
  },
  {
   "cell_type": "markdown",
   "id": "6bfab11e-9ebc-4008-a9b4-3dd785e4f7d0",
   "metadata": {},
   "source": [
    "### Pipeline\n",
    "\n",
    "¿Ques un pipeline?\n",
    "Características\n",
    "¿Porqué pipeline?"
   ]
  },
  {
   "cell_type": "markdown",
   "id": "18eeed5e-1196-4235-ad50-62d7eb5506db",
   "metadata": {},
   "source": [
    "### Flujo típico de un pipeline de datos\n",
    "\n",
    "1. Ingesta (Extract)\n",
    "2. Procesamiento (Transform)\n",
    "3. Carga (Load)\n",
    "4. Consumo"
   ]
  },
  {
   "cell_type": "markdown",
   "id": "df0f24d3-2fbe-48f8-9ba7-39f367ccad92",
   "metadata": {},
   "source": [
    "### Casos de uso de los ETL\n",
    "\n",
    "* Control de calidad estricto\n",
    "* Storage limitado\n",
    "* Warehouse Tradicionales\n",
    "* Transformaciones pesadas"
   ]
  },
  {
   "cell_type": "markdown",
   "id": "e1df55cc-e787-4930-832e-ba2d60a46b2d",
   "metadata": {},
   "source": [
    "### Modo de procesamiento\n",
    "\n",
    "- Batch\n",
    "- Streaming\n",
    "- Micro batch"
   ]
  },
  {
   "cell_type": "markdown",
   "id": "31abd946-bce5-4be1-8a82-ec9ae8d80b8d",
   "metadata": {},
   "source": [
    "### Casos de usar ELT \n",
    "\n",
    "* Warehouses en la nube\n",
    "* Preservar datos crudos\n",
    "* Escalabilidad automática\n",
    "* Data Lake / Lakehouse"
   ]
  },
  {
   "cell_type": "markdown",
   "id": "a6a25b49-b9ce-494a-8df2-dbda9d70a1c0",
   "metadata": {},
   "source": [
    "### Ingesta de datos - Fuentes y modos\n",
    "\n",
    "* Archivos (CSV , JSON , XML)\n",
    "* IoT sensores (Dispositivos y telemetría)\n",
    "* Bases de datos (SQL server)"
   ]
  },
  {
   "cell_type": "markdown",
   "id": "3765bb2a-fec6-41cd-9231-0a25dfbc7d34",
   "metadata": {},
   "source": [
    "### Servicios GCP para ingesta de datos\n",
    "\n",
    "* Cloud storage (GCS)\n",
    "* Pub/Sub"
   ]
  },
  {
   "cell_type": "markdown",
   "id": "b8b1f079-cfcf-4588-9d79-2d328ac16c0c",
   "metadata": {},
   "source": [
    "### Tipos de datos y servicios GCP\n",
    "\n",
    "1. Estructurados -> Datos en filas y columnas\n",
    "2. Semi-estructurados -> Organización flexible , sin tablas\n",
    "3. No estructurados -> Imagenes , videos , pdf , audios\n",
    "\n",
    "* Cloud SQL -> Ideal para datos transaccionales (OLTP)\n",
    "* BigQuery -> Ideal para análisis de datos (OLAP)"
   ]
  },
  {
   "cell_type": "code",
   "execution_count": null,
   "id": "769509d4-f0ec-4d77-8924-dbd47962e81f",
   "metadata": {},
   "outputs": [],
   "source": []
  }
 ],
 "metadata": {
  "kernelspec": {
   "display_name": "Python 3 (ipykernel)",
   "language": "python",
   "name": "python3"
  },
  "language_info": {
   "codemirror_mode": {
    "name": "ipython",
    "version": 3
   },
   "file_extension": ".py",
   "mimetype": "text/x-python",
   "name": "python",
   "nbconvert_exporter": "python",
   "pygments_lexer": "ipython3",
   "version": "3.12.3"
  }
 },
 "nbformat": 4,
 "nbformat_minor": 5
}
