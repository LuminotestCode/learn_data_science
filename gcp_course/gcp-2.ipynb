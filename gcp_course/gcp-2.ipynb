{
 "cells": [
  {
   "cell_type": "markdown",
   "id": "e3f9deab-89d4-4d86-a785-353197143d7b",
   "metadata": {},
   "source": [
    "# Clase 2 - Certificación GCP"
   ]
  },
  {
   "cell_type": "markdown",
   "id": "2f8657f4-2a0c-47d7-b99f-48bff3600f55",
   "metadata": {},
   "source": [
    "### Infraestructura global de google cloud"
   ]
  },
  {
   "cell_type": "markdown",
   "id": "ec8bad8d-1f12-4fab-9707-7460a53c1694",
   "metadata": {},
   "source": [
    "### Región\n",
    "Es una ubicación geográficamente amplia y a su vez está compuesta de múltiples zonas "
   ]
  },
  {
   "cell_type": "code",
   "execution_count": null,
   "id": "0d83342c-38c4-4690-b164-ca522f1a9c76",
   "metadata": {},
   "outputs": [],
   "source": []
  }
 ],
 "metadata": {
  "kernelspec": {
   "display_name": "Python 3 (ipykernel)",
   "language": "python",
   "name": "python3"
  },
  "language_info": {
   "codemirror_mode": {
    "name": "ipython",
    "version": 3
   },
   "file_extension": ".py",
   "mimetype": "text/x-python",
   "name": "python",
   "nbconvert_exporter": "python",
   "pygments_lexer": "ipython3",
   "version": "3.12.3"
  }
 },
 "nbformat": 4,
 "nbformat_minor": 5
}
