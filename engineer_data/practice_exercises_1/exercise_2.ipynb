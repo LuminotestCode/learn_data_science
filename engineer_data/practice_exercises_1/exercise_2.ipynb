{
 "cells": [
  {
   "cell_type": "markdown",
   "id": "191f525b-8671-4f34-8f9b-769821db85e1",
   "metadata": {},
   "source": [
    "# Exercise 2 - "
   ]
  },
  {
   "cell_type": "code",
   "execution_count": null,
   "id": "ed47cc1d-2f69-454c-a879-1410ee1a9249",
   "metadata": {},
   "outputs": [],
   "source": []
  }
 ],
 "metadata": {
  "kernelspec": {
   "display_name": "Python 3 (ipykernel)",
   "language": "python",
   "name": "python3"
  },
  "language_info": {
   "codemirror_mode": {
    "name": "ipython",
    "version": 3
   },
   "file_extension": ".py",
   "mimetype": "text/x-python",
   "name": "python",
   "nbconvert_exporter": "python",
   "pygments_lexer": "ipython3",
   "version": "3.12.3"
  }
 },
 "nbformat": 4,
 "nbformat_minor": 5
}
