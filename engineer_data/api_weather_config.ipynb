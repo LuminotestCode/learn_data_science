{
 "cells": [
  {
   "cell_type": "markdown",
   "id": "3167d908-de30-454a-9052-ba64a1f11017",
   "metadata": {},
   "source": [
    "### URL to API (https://www.weatherapi.com)"
   ]
  },
  {
   "cell_type": "code",
   "execution_count": 3,
   "id": "e6868c99-32e9-48c3-a928-a849e6845111",
   "metadata": {},
   "outputs": [
    {
     "name": "stdout",
     "output_type": "stream",
     "text": [
      "Defaulting to user installation because normal site-packages is not writeable\n",
      "Requirement already satisfied: twilio in /home/sebas001/.local/lib/python3.10/site-packages (9.6.1)\n",
      "Requirement already satisfied: requests>=2.0.0 in /home/sebas001/.local/lib/python3.10/site-packages (from twilio) (2.32.3)\n",
      "Requirement already satisfied: PyJWT<3.0.0,>=2.0.0 in /home/sebas001/.local/lib/python3.10/site-packages (from twilio) (2.8.0)\n",
      "Requirement already satisfied: aiohttp>=3.8.4 in /home/sebas001/.local/lib/python3.10/site-packages (from twilio) (3.11.11)\n",
      "Requirement already satisfied: aiohttp-retry>=2.8.3 in /home/sebas001/.local/lib/python3.10/site-packages (from twilio) (2.9.1)\n",
      "Requirement already satisfied: yarl<2.0,>=1.17.0 in /home/sebas001/.local/lib/python3.10/site-packages (from aiohttp>=3.8.4->twilio) (1.18.3)\n",
      "Requirement already satisfied: aiohappyeyeballs>=2.3.0 in /home/sebas001/.local/lib/python3.10/site-packages (from aiohttp>=3.8.4->twilio) (2.4.4)\n",
      "Requirement already satisfied: aiosignal>=1.1.2 in /home/sebas001/.local/lib/python3.10/site-packages (from aiohttp>=3.8.4->twilio) (1.3.2)\n",
      "Requirement already satisfied: async-timeout<6.0,>=4.0 in /home/sebas001/.local/lib/python3.10/site-packages (from aiohttp>=3.8.4->twilio) (5.0.1)\n",
      "Requirement already satisfied: attrs>=17.3.0 in /home/sebas001/.local/lib/python3.10/site-packages (from aiohttp>=3.8.4->twilio) (25.1.0)\n",
      "Requirement already satisfied: frozenlist>=1.1.1 in /home/sebas001/.local/lib/python3.10/site-packages (from aiohttp>=3.8.4->twilio) (1.5.0)\n",
      "Requirement already satisfied: multidict<7.0,>=4.5 in /home/sebas001/.local/lib/python3.10/site-packages (from aiohttp>=3.8.4->twilio) (6.1.0)\n",
      "Requirement already satisfied: propcache>=0.2.0 in /home/sebas001/.local/lib/python3.10/site-packages (from aiohttp>=3.8.4->twilio) (0.2.1)\n",
      "Requirement already satisfied: urllib3<3,>=1.21.1 in /usr/lib/python3/dist-packages (from requests>=2.0.0->twilio) (1.26.5)\n",
      "Requirement already satisfied: charset-normalizer<4,>=2 in /home/sebas001/.local/lib/python3.10/site-packages (from requests>=2.0.0->twilio) (3.4.1)\n",
      "Requirement already satisfied: certifi>=2017.4.17 in /usr/lib/python3/dist-packages (from requests>=2.0.0->twilio) (2020.6.20)\n",
      "Requirement already satisfied: idna<4,>=2.5 in /home/sebas001/.local/lib/python3.10/site-packages (from requests>=2.0.0->twilio) (3.4)\n",
      "Requirement already satisfied: typing-extensions>=4.1.0 in /home/sebas001/.local/lib/python3.10/site-packages (from multidict<7.0,>=4.5->aiohttp>=3.8.4->twilio) (4.7.1)\n",
      "Note: you may need to restart the kernel to use updated packages.\n"
     ]
    }
   ],
   "source": [
    "pip install twilio"
   ]
  },
  {
   "cell_type": "code",
   "execution_count": 2,
   "id": "c6a0b22d-5291-4c62-b60b-986305c6b526",
   "metadata": {},
   "outputs": [
    {
     "name": "stdout",
     "output_type": "stream",
     "text": [
      "Defaulting to user installation because normal site-packages is not writeable\n",
      "Requirement already satisfied: python-dotenv in /home/sebas001/.local/lib/python3.10/site-packages (1.0.0)\n"
     ]
    }
   ],
   "source": [
    "!pip install python-dotenv"
   ]
  },
  {
   "cell_type": "code",
   "execution_count": 4,
   "id": "ee134d5a-f796-4859-af2b-acad8b9f25f8",
   "metadata": {},
   "outputs": [],
   "source": [
    "import os\n",
    "from twilio.rest import Client\n",
    "import time\n",
    "\n",
    "from requests import Request, Session\n",
    "from requests.exceptions import ConnectionError, Timeout, TooManyRedirects\n",
    "import json\n",
    "\n",
    "import pandas as pd\n",
    "import requests\n",
    "from bs4 import BeautifulSoup\n",
    "from tqdm import tqdm\n",
    "\n",
    "from datetime import datetime"
   ]
  },
  {
   "cell_type": "code",
   "execution_count": 5,
   "id": "789b6b36-28e6-442b-806d-b683be11a8ea",
   "metadata": {},
   "outputs": [],
   "source": [
    "from dotenv import load_dotenv\n",
    "\n",
    "load_dotenv()\n",
    "\n",
    "twilio_account_sid = os.getenv('TWILIO_ACCUNT_SID')\n",
    "twilio_auth_token = os.getenv('TWILIO_AUTH_TOKEN')\n",
    "phone_number = os.getenv('PHONE_NUMBER')\n",
    "api_key_wapi = os.getenv('API_KEY_WAPI')"
   ]
  },
  {
   "cell_type": "markdown",
   "id": "6e5752b8-0160-4203-bc29-b78f88e4ca15",
   "metadata": {},
   "source": [
    "### URL Composition"
   ]
  },
  {
   "cell_type": "markdown",
   "id": "e74410e2-d852-4612-bbbf-ccf09891fed2",
   "metadata": {},
   "source": [
    "Get complete information of weather in my city in all hour of day 🌦️"
   ]
  },
  {
   "cell_type": "code",
   "execution_count": 6,
   "id": "280a9393-52fc-41de-b047-d995a491a6aa",
   "metadata": {},
   "outputs": [],
   "source": [
    "query = 'Bogotá'\n",
    "api_key = api_key_wapi\n",
    "\n",
    "url_weather = 'http://api.weatherapi.com/v1/forecast.json?key='+api_key+'&q='+query+'&days=1&aqi=no&alerts=no'"
   ]
  },
  {
   "cell_type": "code",
   "execution_count": 7,
   "id": "e7f88807-80ea-4b36-87da-0fdf83236f30",
   "metadata": {},
   "outputs": [],
   "source": [
    "url_response = requests.get(url_weather).json()"
   ]
  },
  {
   "cell_type": "code",
   "execution_count": 8,
   "id": "73692357-e701-4cd2-ba9a-b9154a0bd50a",
   "metadata": {},
   "outputs": [
    {
     "data": {
      "text/plain": [
       "dict_keys(['location', 'current', 'forecast'])"
      ]
     },
     "execution_count": 8,
     "metadata": {},
     "output_type": "execute_result"
    }
   ],
   "source": [
    "url_response.keys()"
   ]
  },
  {
   "cell_type": "code",
   "execution_count": 9,
   "id": "4ec9f4a9-30ba-4acc-beac-331e1364df11",
   "metadata": {},
   "outputs": [
    {
     "data": {
      "text/plain": [
       "dict_keys(['date', 'date_epoch', 'day', 'astro', 'hour'])"
      ]
     },
     "execution_count": 9,
     "metadata": {},
     "output_type": "execute_result"
    }
   ],
   "source": [
    "url_response['forecast']['forecastday'][0].keys()"
   ]
  },
  {
   "cell_type": "code",
   "execution_count": 10,
   "id": "62e6b5f0-8a11-467b-83f7-000320cdb4b6",
   "metadata": {},
   "outputs": [
    {
     "data": {
      "text/plain": [
       "24"
      ]
     },
     "execution_count": 10,
     "metadata": {},
     "output_type": "execute_result"
    }
   ],
   "source": [
    "len(url_response['forecast']['forecastday'][0]['hour'])  #Hour along to day"
   ]
  },
  {
   "cell_type": "code",
   "execution_count": 11,
   "id": "0f2bdc52-eb5c-4919-a4a8-6a216129f98f",
   "metadata": {},
   "outputs": [
    {
     "data": {
      "text/plain": [
       "'2025-05-20'"
      ]
     },
     "execution_count": 11,
     "metadata": {},
     "output_type": "execute_result"
    }
   ],
   "source": [
    "url_response['forecast']['forecastday'][0]['hour'][1]['time'].split()[0] #Date"
   ]
  },
  {
   "cell_type": "code",
   "execution_count": 12,
   "id": "ff606556-d927-4c1c-808d-7eeb0c4edb50",
   "metadata": {},
   "outputs": [
    {
     "data": {
      "text/plain": [
       "1"
      ]
     },
     "execution_count": 12,
     "metadata": {},
     "output_type": "execute_result"
    }
   ],
   "source": [
    "int(url_response['forecast']['forecastday'][0]['hour'][1]['time'].split()[1].split(':')[0]) #Hour"
   ]
  },
  {
   "cell_type": "code",
   "execution_count": 13,
   "id": "652d0d39-2db9-48f1-a259-0562a18aff4a",
   "metadata": {},
   "outputs": [
    {
     "data": {
      "text/plain": [
       "{'text': 'Partly Cloudy ',\n",
       " 'icon': '//cdn.weatherapi.com/weather/64x64/night/116.png',\n",
       " 'code': 1003}"
      ]
     },
     "execution_count": 13,
     "metadata": {},
     "output_type": "execute_result"
    }
   ],
   "source": [
    "url_response['forecast']['forecastday'][0]['hour'][22]['condition'] #Condition of weather"
   ]
  },
  {
   "cell_type": "code",
   "execution_count": 14,
   "id": "b8176d43-2da4-4c44-a6e6-11cf1b08fd34",
   "metadata": {},
   "outputs": [
    {
     "data": {
      "text/plain": [
       "10.1"
      ]
     },
     "execution_count": 14,
     "metadata": {},
     "output_type": "execute_result"
    }
   ],
   "source": [
    "url_response['forecast']['forecastday'][0]['hour'][22]['temp_c'] #Temperature"
   ]
  },
  {
   "cell_type": "code",
   "execution_count": 15,
   "id": "96d65604-b2b5-4e64-aad3-481e3658fdd9",
   "metadata": {},
   "outputs": [
    {
     "data": {
      "text/plain": [
       "0"
      ]
     },
     "execution_count": 15,
     "metadata": {},
     "output_type": "execute_result"
    }
   ],
   "source": [
    "url_response['forecast']['forecastday'][0]['hour'][22]['will_it_rain'] #¿Rain?"
   ]
  },
  {
   "cell_type": "code",
   "execution_count": 16,
   "id": "6303b424-d7f1-43df-a583-9d8d6d9ecf1e",
   "metadata": {},
   "outputs": [
    {
     "data": {
      "text/plain": [
       "0"
      ]
     },
     "execution_count": 16,
     "metadata": {},
     "output_type": "execute_result"
    }
   ],
   "source": [
    "url_response['forecast']['forecastday'][0]['hour'][22]['chance_of_rain'] #Rain probability"
   ]
  },
  {
   "cell_type": "markdown",
   "id": "028ceaae-065a-43d3-b6ca-8300fce050be",
   "metadata": {},
   "source": [
    "### DataFrame "
   ]
  },
  {
   "cell_type": "code",
   "execution_count": 17,
   "id": "4c67d153-c8e2-4290-a8ef-26bd6301513c",
   "metadata": {},
   "outputs": [],
   "source": [
    "def get_forecast(response, i):\n",
    "    \n",
    "    date = url_response['forecast']['forecastday'][0]['hour'][i]['time'].split()[0]\n",
    "    hour = int(url_response['forecast']['forecastday'][0]['hour'][i]['time'].split()[1].split(':')[0])\n",
    "    condition = url_response['forecast']['forecastday'][0]['hour'][i]['condition']['text']\n",
    "    temperature = url_response['forecast']['forecastday'][0]['hour'][i]['temp_c']\n",
    "    rain = url_response['forecast']['forecastday'][0]['hour'][i]['will_it_rain']\n",
    "    prob_rain = url_response['forecast']['forecastday'][0]['hour'][i]['chance_of_rain']\n",
    "\n",
    "    return date, hour, condition, temperature, rain, prob_rain"
   ]
  },
  {
   "cell_type": "code",
   "execution_count": 18,
   "id": "6eb544af-4c80-4147-8530-3c72fb03153a",
   "metadata": {},
   "outputs": [],
   "source": [
    "data_weather = []\n",
    "len_array = len(url_response['forecast']['forecastday'][0]['hour'])\n",
    "\n",
    "for i in range(len_array):\n",
    "    data_weather.append(get_forecast(url_response,i))"
   ]
  },
  {
   "cell_type": "code",
   "execution_count": 19,
   "id": "49d2d198-25fb-4c03-b11b-4509b96c2af3",
   "metadata": {},
   "outputs": [
    {
     "data": {
      "text/plain": [
       "[('2025-05-20', 0, 'Mist', 10.1, 1, 88),\n",
       " ('2025-05-20', 1, 'Mist', 9.7, 1, 71),\n",
       " ('2025-05-20', 2, 'Mist', 9.6, 0, 68),\n",
       " ('2025-05-20', 3, 'Mist', 9.4, 1, 71),\n",
       " ('2025-05-20', 4, 'Mist', 9.3, 0, 0),\n",
       " ('2025-05-20', 5, 'Mist', 9.4, 0, 0),\n",
       " ('2025-05-20', 6, 'Mist', 9.6, 0, 0),\n",
       " ('2025-05-20', 7, 'Partly Cloudy ', 11.4, 0, 0),\n",
       " ('2025-05-20', 8, 'Patchy rain nearby', 12.8, 0, 61),\n",
       " ('2025-05-20', 9, 'Patchy rain nearby', 13.9, 1, 100),\n",
       " ('2025-05-20', 10, 'Light rain shower', 14.9, 1, 100),\n",
       " ('2025-05-20', 11, 'Patchy light drizzle', 15.5, 1, 100),\n",
       " ('2025-05-20', 12, 'Patchy rain nearby', 16.0, 1, 100),\n",
       " ('2025-05-20', 13, 'Patchy rain nearby', 16.0, 1, 100),\n",
       " ('2025-05-20', 14, 'Patchy rain nearby', 15.8, 1, 100),\n",
       " ('2025-05-20', 15, 'Patchy rain nearby', 15.6, 1, 100),\n",
       " ('2025-05-20', 16, 'Patchy rain nearby', 15.2, 1, 100),\n",
       " ('2025-05-20', 17, 'Patchy light drizzle', 14.6, 1, 100),\n",
       " ('2025-05-20', 18, 'Patchy rain nearby', 11.6, 1, 100),\n",
       " ('2025-05-20', 19, 'Mist', 10.4, 1, 72),\n",
       " ('2025-05-20', 20, 'Partly cloudy', 14.2, 1, 85),\n",
       " ('2025-05-20', 21, 'Patchy rain nearby', 10.1, 1, 100),\n",
       " ('2025-05-20', 22, 'Partly Cloudy ', 10.1, 0, 0),\n",
       " ('2025-05-20', 23, 'Partly Cloudy ', 10.0, 0, 0)]"
      ]
     },
     "execution_count": 19,
     "metadata": {},
     "output_type": "execute_result"
    }
   ],
   "source": [
    "data_weather"
   ]
  },
  {
   "cell_type": "code",
   "execution_count": 20,
   "id": "890088ff-c2d6-4522-819c-d9f47519220b",
   "metadata": {},
   "outputs": [
    {
     "data": {
      "text/html": [
       "<div>\n",
       "<style scoped>\n",
       "    .dataframe tbody tr th:only-of-type {\n",
       "        vertical-align: middle;\n",
       "    }\n",
       "\n",
       "    .dataframe tbody tr th {\n",
       "        vertical-align: top;\n",
       "    }\n",
       "\n",
       "    .dataframe thead th {\n",
       "        text-align: right;\n",
       "    }\n",
       "</style>\n",
       "<table border=\"1\" class=\"dataframe\">\n",
       "  <thead>\n",
       "    <tr style=\"text-align: right;\">\n",
       "      <th></th>\n",
       "      <th>date</th>\n",
       "      <th>hour</th>\n",
       "      <th>condition</th>\n",
       "      <th>temperature</th>\n",
       "      <th>rain</th>\n",
       "      <th>prob_rain</th>\n",
       "    </tr>\n",
       "  </thead>\n",
       "  <tbody>\n",
       "    <tr>\n",
       "      <th>0</th>\n",
       "      <td>2025-05-20</td>\n",
       "      <td>0</td>\n",
       "      <td>Mist</td>\n",
       "      <td>10.1</td>\n",
       "      <td>1</td>\n",
       "      <td>88</td>\n",
       "    </tr>\n",
       "    <tr>\n",
       "      <th>1</th>\n",
       "      <td>2025-05-20</td>\n",
       "      <td>1</td>\n",
       "      <td>Mist</td>\n",
       "      <td>9.7</td>\n",
       "      <td>1</td>\n",
       "      <td>71</td>\n",
       "    </tr>\n",
       "    <tr>\n",
       "      <th>2</th>\n",
       "      <td>2025-05-20</td>\n",
       "      <td>2</td>\n",
       "      <td>Mist</td>\n",
       "      <td>9.6</td>\n",
       "      <td>0</td>\n",
       "      <td>68</td>\n",
       "    </tr>\n",
       "    <tr>\n",
       "      <th>3</th>\n",
       "      <td>2025-05-20</td>\n",
       "      <td>3</td>\n",
       "      <td>Mist</td>\n",
       "      <td>9.4</td>\n",
       "      <td>1</td>\n",
       "      <td>71</td>\n",
       "    </tr>\n",
       "    <tr>\n",
       "      <th>4</th>\n",
       "      <td>2025-05-20</td>\n",
       "      <td>4</td>\n",
       "      <td>Mist</td>\n",
       "      <td>9.3</td>\n",
       "      <td>0</td>\n",
       "      <td>0</td>\n",
       "    </tr>\n",
       "    <tr>\n",
       "      <th>5</th>\n",
       "      <td>2025-05-20</td>\n",
       "      <td>5</td>\n",
       "      <td>Mist</td>\n",
       "      <td>9.4</td>\n",
       "      <td>0</td>\n",
       "      <td>0</td>\n",
       "    </tr>\n",
       "    <tr>\n",
       "      <th>6</th>\n",
       "      <td>2025-05-20</td>\n",
       "      <td>6</td>\n",
       "      <td>Mist</td>\n",
       "      <td>9.6</td>\n",
       "      <td>0</td>\n",
       "      <td>0</td>\n",
       "    </tr>\n",
       "    <tr>\n",
       "      <th>7</th>\n",
       "      <td>2025-05-20</td>\n",
       "      <td>7</td>\n",
       "      <td>Partly Cloudy</td>\n",
       "      <td>11.4</td>\n",
       "      <td>0</td>\n",
       "      <td>0</td>\n",
       "    </tr>\n",
       "    <tr>\n",
       "      <th>8</th>\n",
       "      <td>2025-05-20</td>\n",
       "      <td>8</td>\n",
       "      <td>Patchy rain nearby</td>\n",
       "      <td>12.8</td>\n",
       "      <td>0</td>\n",
       "      <td>61</td>\n",
       "    </tr>\n",
       "    <tr>\n",
       "      <th>9</th>\n",
       "      <td>2025-05-20</td>\n",
       "      <td>9</td>\n",
       "      <td>Patchy rain nearby</td>\n",
       "      <td>13.9</td>\n",
       "      <td>1</td>\n",
       "      <td>100</td>\n",
       "    </tr>\n",
       "    <tr>\n",
       "      <th>10</th>\n",
       "      <td>2025-05-20</td>\n",
       "      <td>10</td>\n",
       "      <td>Light rain shower</td>\n",
       "      <td>14.9</td>\n",
       "      <td>1</td>\n",
       "      <td>100</td>\n",
       "    </tr>\n",
       "    <tr>\n",
       "      <th>11</th>\n",
       "      <td>2025-05-20</td>\n",
       "      <td>11</td>\n",
       "      <td>Patchy light drizzle</td>\n",
       "      <td>15.5</td>\n",
       "      <td>1</td>\n",
       "      <td>100</td>\n",
       "    </tr>\n",
       "    <tr>\n",
       "      <th>12</th>\n",
       "      <td>2025-05-20</td>\n",
       "      <td>12</td>\n",
       "      <td>Patchy rain nearby</td>\n",
       "      <td>16.0</td>\n",
       "      <td>1</td>\n",
       "      <td>100</td>\n",
       "    </tr>\n",
       "    <tr>\n",
       "      <th>13</th>\n",
       "      <td>2025-05-20</td>\n",
       "      <td>13</td>\n",
       "      <td>Patchy rain nearby</td>\n",
       "      <td>16.0</td>\n",
       "      <td>1</td>\n",
       "      <td>100</td>\n",
       "    </tr>\n",
       "    <tr>\n",
       "      <th>14</th>\n",
       "      <td>2025-05-20</td>\n",
       "      <td>14</td>\n",
       "      <td>Patchy rain nearby</td>\n",
       "      <td>15.8</td>\n",
       "      <td>1</td>\n",
       "      <td>100</td>\n",
       "    </tr>\n",
       "    <tr>\n",
       "      <th>15</th>\n",
       "      <td>2025-05-20</td>\n",
       "      <td>15</td>\n",
       "      <td>Patchy rain nearby</td>\n",
       "      <td>15.6</td>\n",
       "      <td>1</td>\n",
       "      <td>100</td>\n",
       "    </tr>\n",
       "    <tr>\n",
       "      <th>16</th>\n",
       "      <td>2025-05-20</td>\n",
       "      <td>16</td>\n",
       "      <td>Patchy rain nearby</td>\n",
       "      <td>15.2</td>\n",
       "      <td>1</td>\n",
       "      <td>100</td>\n",
       "    </tr>\n",
       "    <tr>\n",
       "      <th>17</th>\n",
       "      <td>2025-05-20</td>\n",
       "      <td>17</td>\n",
       "      <td>Patchy light drizzle</td>\n",
       "      <td>14.6</td>\n",
       "      <td>1</td>\n",
       "      <td>100</td>\n",
       "    </tr>\n",
       "    <tr>\n",
       "      <th>18</th>\n",
       "      <td>2025-05-20</td>\n",
       "      <td>18</td>\n",
       "      <td>Patchy rain nearby</td>\n",
       "      <td>11.6</td>\n",
       "      <td>1</td>\n",
       "      <td>100</td>\n",
       "    </tr>\n",
       "    <tr>\n",
       "      <th>19</th>\n",
       "      <td>2025-05-20</td>\n",
       "      <td>19</td>\n",
       "      <td>Mist</td>\n",
       "      <td>10.4</td>\n",
       "      <td>1</td>\n",
       "      <td>72</td>\n",
       "    </tr>\n",
       "    <tr>\n",
       "      <th>20</th>\n",
       "      <td>2025-05-20</td>\n",
       "      <td>20</td>\n",
       "      <td>Partly cloudy</td>\n",
       "      <td>14.2</td>\n",
       "      <td>1</td>\n",
       "      <td>85</td>\n",
       "    </tr>\n",
       "    <tr>\n",
       "      <th>21</th>\n",
       "      <td>2025-05-20</td>\n",
       "      <td>21</td>\n",
       "      <td>Patchy rain nearby</td>\n",
       "      <td>10.1</td>\n",
       "      <td>1</td>\n",
       "      <td>100</td>\n",
       "    </tr>\n",
       "    <tr>\n",
       "      <th>22</th>\n",
       "      <td>2025-05-20</td>\n",
       "      <td>22</td>\n",
       "      <td>Partly Cloudy</td>\n",
       "      <td>10.1</td>\n",
       "      <td>0</td>\n",
       "      <td>0</td>\n",
       "    </tr>\n",
       "    <tr>\n",
       "      <th>23</th>\n",
       "      <td>2025-05-20</td>\n",
       "      <td>23</td>\n",
       "      <td>Partly Cloudy</td>\n",
       "      <td>10.0</td>\n",
       "      <td>0</td>\n",
       "      <td>0</td>\n",
       "    </tr>\n",
       "  </tbody>\n",
       "</table>\n",
       "</div>"
      ],
      "text/plain": [
       "          date  hour             condition  temperature  rain  prob_rain\n",
       "0   2025-05-20     0                  Mist         10.1     1         88\n",
       "1   2025-05-20     1                  Mist          9.7     1         71\n",
       "2   2025-05-20     2                  Mist          9.6     0         68\n",
       "3   2025-05-20     3                  Mist          9.4     1         71\n",
       "4   2025-05-20     4                  Mist          9.3     0          0\n",
       "5   2025-05-20     5                  Mist          9.4     0          0\n",
       "6   2025-05-20     6                  Mist          9.6     0          0\n",
       "7   2025-05-20     7        Partly Cloudy          11.4     0          0\n",
       "8   2025-05-20     8    Patchy rain nearby         12.8     0         61\n",
       "9   2025-05-20     9    Patchy rain nearby         13.9     1        100\n",
       "10  2025-05-20    10     Light rain shower         14.9     1        100\n",
       "11  2025-05-20    11  Patchy light drizzle         15.5     1        100\n",
       "12  2025-05-20    12    Patchy rain nearby         16.0     1        100\n",
       "13  2025-05-20    13    Patchy rain nearby         16.0     1        100\n",
       "14  2025-05-20    14    Patchy rain nearby         15.8     1        100\n",
       "15  2025-05-20    15    Patchy rain nearby         15.6     1        100\n",
       "16  2025-05-20    16    Patchy rain nearby         15.2     1        100\n",
       "17  2025-05-20    17  Patchy light drizzle         14.6     1        100\n",
       "18  2025-05-20    18    Patchy rain nearby         11.6     1        100\n",
       "19  2025-05-20    19                  Mist         10.4     1         72\n",
       "20  2025-05-20    20         Partly cloudy         14.2     1         85\n",
       "21  2025-05-20    21    Patchy rain nearby         10.1     1        100\n",
       "22  2025-05-20    22        Partly Cloudy          10.1     0          0\n",
       "23  2025-05-20    23        Partly Cloudy          10.0     0          0"
      ]
     },
     "execution_count": 20,
     "metadata": {},
     "output_type": "execute_result"
    }
   ],
   "source": [
    "col = ['date', 'hour', 'condition', 'temperature', 'rain', 'prob_rain']\n",
    "df = pd.DataFrame(data_weather,columns = col)\n",
    "df"
   ]
  },
  {
   "cell_type": "code",
   "execution_count": 22,
   "id": "b57d665e-065d-4955-aa6d-8c4ea5384434",
   "metadata": {},
   "outputs": [],
   "source": [
    "df_rain = df[(df['rain']==1) & (df['hour']>6) & (df['hour']<22)] \n",
    "df_rain = df_rain[['hour','condition']]\n",
    "df_rain.set_index('hour', inplace = True)"
   ]
  },
  {
   "cell_type": "code",
   "execution_count": 53,
   "id": "3a8fa84f-1bb2-4921-9c55-8d3ab98eb9eb",
   "metadata": {},
   "outputs": [],
   "source": [
    "df_rain = df_rain[-2:]"
   ]
  },
  {
   "cell_type": "markdown",
   "id": "d882b0b6-e3f6-41ee-b1b2-03f66fae31a7",
   "metadata": {},
   "source": [
    "### Template Message - Send by phone"
   ]
  },
  {
   "cell_type": "code",
   "execution_count": 54,
   "id": "fae46dce-20cd-411c-a9a5-3fe5adef6da5",
   "metadata": {},
   "outputs": [],
   "source": [
    "message_twilio = '\\nHola! \\n El pronóstico del clima hoy '+df['date'][0]+' en '+query+' es : \\n '+str(df_rain)"
   ]
  },
  {
   "cell_type": "markdown",
   "id": "c99a0263-203d-464c-8dc3-f226e5919a13",
   "metadata": {},
   "source": [
    "### Message trhough App Twilio"
   ]
  },
  {
   "cell_type": "code",
   "execution_count": 55,
   "id": "48f4f13a-d1ef-4d72-a724-aa9a5b4171d5",
   "metadata": {},
   "outputs": [
    {
     "name": "stdout",
     "output_type": "stream",
     "text": [
      "message sent succesful!!SM0f780b73959c10b0782f8644088c3282\n"
     ]
    }
   ],
   "source": [
    "time.sleep(2)\n",
    "client = Client(twilio_account_sid, twilio_auth_token)\n",
    "\n",
    "message = client.messages \\\n",
    "    .create(\n",
    "        body = message_twilio,\n",
    "        from_ = phone_number,\n",
    "        to = '+573105701516'\n",
    "    )\n",
    "\n",
    "print('message sent succesful!!' + message.sid)"
   ]
  },
  {
   "cell_type": "code",
   "execution_count": null,
   "id": "86dcf2b1-dfde-481c-b377-c2e05ee95423",
   "metadata": {},
   "outputs": [],
   "source": []
  }
 ],
 "metadata": {
  "kernelspec": {
   "display_name": "Python 3 (ipykernel)",
   "language": "python",
   "name": "python3"
  },
  "language_info": {
   "codemirror_mode": {
    "name": "ipython",
    "version": 3
   },
   "file_extension": ".py",
   "mimetype": "text/x-python",
   "name": "python",
   "nbconvert_exporter": "python",
   "pygments_lexer": "ipython3",
   "version": "3.10.12"
  }
 },
 "nbformat": 4,
 "nbformat_minor": 5
}
