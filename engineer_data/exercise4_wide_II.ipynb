{
 "cells": [
  {
   "cell_type": "code",
   "execution_count": 9,
   "id": "89bcb746-e1d4-4554-a58a-05cd066782fa",
   "metadata": {},
   "outputs": [],
   "source": [
    "#######################################################\n",
    "#Configuración inicial\n",
    "#######################################################\n",
    "from pyspark.sql import SparkSession #Iniciar la sesión de spark\n",
    "\n",
    "# Creamos la sesión de spark\n",
    "spark = SparkSession.builder \\\n",
    "    .appName(\"EjemploRDD\") \\\n",
    "    .master(\"local[*]\") \\\n",
    "    .getOrCreate() \n",
    "\n",
    "import findspark #Librería para encontrar donde está instalado spark\n",
    "findspark.init() \n",
    "\n",
    "sc = spark.sparkContext  #Crea el contexto de spark"
   ]
  },
  {
   "cell_type": "code",
   "execution_count": 14,
   "id": "2460f658-facf-45b9-aabb-713695962600",
   "metadata": {},
   "outputs": [],
   "source": [
    "#Ubicación del archivo\n",
    "path_file = './pdi_sales_small.csv'"
   ]
  },
  {
   "cell_type": "code",
   "execution_count": 15,
   "id": "ce8e5a32-93b9-4c77-b03e-5ee075068846",
   "metadata": {},
   "outputs": [],
   "source": [
    "#Procesamiento del archivo\n",
    "rdd_sales = sc.textFile(path_file)"
   ]
  },
  {
   "cell_type": "code",
   "execution_count": 28,
   "id": "4b0f4fbf-1b58-4c25-84ca-a85e228d20f8",
   "metadata": {},
   "outputs": [],
   "source": [
    "countries = rdd_sales.map(lambda x : (x.split(\";\")[-1].strip(), x.split(\";\")))"
   ]
  },
  {
   "cell_type": "code",
   "execution_count": 33,
   "id": "17620612-78ec-4d85-8f77-7d536dbf9905",
   "metadata": {},
   "outputs": [],
   "source": [
    "#Quitamos el primer elemento que es el encabezado del csv\n",
    "header = countries.first()\n",
    "sales_with_country = countries.filter(lambda linea: linea != header)"
   ]
  },
  {
   "cell_type": "code",
   "execution_count": 34,
   "id": "68df3830-e7a2-4119-804b-d725d666c086",
   "metadata": {},
   "outputs": [],
   "source": [
    "#Agrupamos las ventas por nombre de país\n",
    "sales_by_country = sales_with_country.groupByKey()"
   ]
  },
  {
   "cell_type": "code",
   "execution_count": 35,
   "id": "8ee12ebd-688a-47f0-bf10-3995af8c6437",
   "metadata": {},
   "outputs": [
    {
     "data": {
      "text/plain": [
       "[('Germany', <pyspark.resultiterable.ResultIterable at 0x7d18b0335df0>),\n",
       " ('Mexico', <pyspark.resultiterable.ResultIterable at 0x7d18b03347d0>),\n",
       " ('France', <pyspark.resultiterable.ResultIterable at 0x7d18950e5220>),\n",
       " ('Canada', <pyspark.resultiterable.ResultIterable at 0x7d1896a6d850>)]"
      ]
     },
     "execution_count": 35,
     "metadata": {},
     "output_type": "execute_result"
    }
   ],
   "source": [
    "sales_by_country.take(5)"
   ]
  },
  {
   "cell_type": "code",
   "execution_count": null,
   "id": "e5ace5fd-01db-4289-8128-fae779d0f77f",
   "metadata": {},
   "outputs": [],
   "source": []
  }
 ],
 "metadata": {
  "kernelspec": {
   "display_name": "Python 3 (ipykernel)",
   "language": "python",
   "name": "python3"
  },
  "language_info": {
   "codemirror_mode": {
    "name": "ipython",
    "version": 3
   },
   "file_extension": ".py",
   "mimetype": "text/x-python",
   "name": "python",
   "nbconvert_exporter": "python",
   "pygments_lexer": "ipython3",
   "version": "3.12.3"
  }
 },
 "nbformat": 4,
 "nbformat_minor": 5
}
